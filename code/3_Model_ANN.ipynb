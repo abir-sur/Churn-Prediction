{
  "cells": [
    {
      "attachments": {},
      "cell_type": "markdown",
      "metadata": {
        "id": "FGjY5KFAc8-x"
      },
      "source": [
        "<h3 style='color:blue' align='center'>Customer Churn Prediction Using Artificial Neural Network (ANN)</h3>"
      ]
    },
    {
      "cell_type": "code",
      "execution_count": 128,
      "metadata": {
        "id": "c4I_3RVUc8-1"
      },
      "outputs": [],
      "source": [
        "import pandas as pd\n",
        "from matplotlib import pyplot as plt\n",
        "import numpy as np\n",
        "import seaborn as sns\n",
        "from fast_ml.model_development import train_valid_test_split\n",
        "import seaborn as sn\n",
        "from sklearn.metrics import confusion_matrix , classification_report\n",
        "%matplotlib inline"
      ]
    },
    {
      "attachments": {},
      "cell_type": "markdown",
      "metadata": {
        "id": "_rEWwySKc8-3"
      },
      "source": [
        "**Load the data**"
      ]
    },
    {
      "cell_type": "code",
      "execution_count": 129,
      "metadata": {
        "colab": {
          "base_uri": "https://localhost:8080/",
          "height": 287
        },
        "id": "KpQJWCasc8-3",
        "outputId": "fca7d266-780a-4a60-f143-096cf2031d31",
        "scrolled": true
      },
      "outputs": [
        {
          "data": {
            "text/html": [
              "\n",
              "  <div id=\"df-e893897b-9add-4c39-b4d4-dfde3031856d\">\n",
              "    <div class=\"colab-df-container\">\n",
              "      <div>\n",
              "<style scoped>\n",
              "    .dataframe tbody tr th:only-of-type {\n",
              "        vertical-align: middle;\n",
              "    }\n",
              "\n",
              "    .dataframe tbody tr th {\n",
              "        vertical-align: top;\n",
              "    }\n",
              "\n",
              "    .dataframe thead th {\n",
              "        text-align: right;\n",
              "    }\n",
              "</style>\n",
              "<table border=\"1\" class=\"dataframe\">\n",
              "  <thead>\n",
              "    <tr style=\"text-align: right;\">\n",
              "      <th></th>\n",
              "      <th>CustomerID</th>\n",
              "      <th>Churn</th>\n",
              "      <th>Tenure</th>\n",
              "      <th>PreferredLoginDevice</th>\n",
              "      <th>CityTier</th>\n",
              "      <th>WarehouseToHome</th>\n",
              "      <th>PreferredPaymentMode</th>\n",
              "      <th>Gender</th>\n",
              "      <th>HourSpendOnApp</th>\n",
              "      <th>NumberOfDeviceRegistered</th>\n",
              "      <th>PreferedOrderCat</th>\n",
              "      <th>SatisfactionScore</th>\n",
              "      <th>MaritalStatus</th>\n",
              "      <th>NumberOfAddress</th>\n",
              "      <th>Complain</th>\n",
              "      <th>OrderAmountHikeFromlastYear</th>\n",
              "      <th>CouponUsed</th>\n",
              "      <th>OrderCount</th>\n",
              "      <th>DaySinceLastOrder</th>\n",
              "      <th>CashbackAmount</th>\n",
              "    </tr>\n",
              "  </thead>\n",
              "  <tbody>\n",
              "    <tr>\n",
              "      <th>4483</th>\n",
              "      <td>54484</td>\n",
              "      <td>1</td>\n",
              "      <td>1.0</td>\n",
              "      <td>Mobile Phone</td>\n",
              "      <td>1</td>\n",
              "      <td>9.0</td>\n",
              "      <td>Credit Card</td>\n",
              "      <td>Male</td>\n",
              "      <td>3.0</td>\n",
              "      <td>6</td>\n",
              "      <td>Mobile Phone</td>\n",
              "      <td>1</td>\n",
              "      <td>Married</td>\n",
              "      <td>7</td>\n",
              "      <td>1</td>\n",
              "      <td>14.0</td>\n",
              "      <td>2.0</td>\n",
              "      <td>3.0</td>\n",
              "      <td>3.0</td>\n",
              "      <td>159.64</td>\n",
              "    </tr>\n",
              "    <tr>\n",
              "      <th>2813</th>\n",
              "      <td>52814</td>\n",
              "      <td>0</td>\n",
              "      <td>22.0</td>\n",
              "      <td>Computer</td>\n",
              "      <td>3</td>\n",
              "      <td>8.0</td>\n",
              "      <td>Credit Card</td>\n",
              "      <td>Male</td>\n",
              "      <td>3.0</td>\n",
              "      <td>4</td>\n",
              "      <td>Laptop &amp; Accessory</td>\n",
              "      <td>4</td>\n",
              "      <td>Married</td>\n",
              "      <td>3</td>\n",
              "      <td>0</td>\n",
              "      <td>14.0</td>\n",
              "      <td>1.0</td>\n",
              "      <td>1.0</td>\n",
              "      <td>8.0</td>\n",
              "      <td>153.90</td>\n",
              "    </tr>\n",
              "    <tr>\n",
              "      <th>463</th>\n",
              "      <td>50464</td>\n",
              "      <td>0</td>\n",
              "      <td>23.0</td>\n",
              "      <td>Mobile Phone</td>\n",
              "      <td>1</td>\n",
              "      <td>8.0</td>\n",
              "      <td>Credit Card</td>\n",
              "      <td>Male</td>\n",
              "      <td>3.0</td>\n",
              "      <td>3</td>\n",
              "      <td>Grocery</td>\n",
              "      <td>3</td>\n",
              "      <td>Divorced</td>\n",
              "      <td>6</td>\n",
              "      <td>0</td>\n",
              "      <td>16.0</td>\n",
              "      <td>NaN</td>\n",
              "      <td>1.0</td>\n",
              "      <td>3.0</td>\n",
              "      <td>276.39</td>\n",
              "    </tr>\n",
              "    <tr>\n",
              "      <th>4502</th>\n",
              "      <td>54503</td>\n",
              "      <td>0</td>\n",
              "      <td>5.0</td>\n",
              "      <td>Mobile Phone</td>\n",
              "      <td>1</td>\n",
              "      <td>14.0</td>\n",
              "      <td>Credit Card</td>\n",
              "      <td>Female</td>\n",
              "      <td>3.0</td>\n",
              "      <td>4</td>\n",
              "      <td>Fashion</td>\n",
              "      <td>1</td>\n",
              "      <td>Single</td>\n",
              "      <td>3</td>\n",
              "      <td>1</td>\n",
              "      <td>15.0</td>\n",
              "      <td>5.0</td>\n",
              "      <td>5.0</td>\n",
              "      <td>11.0</td>\n",
              "      <td>196.43</td>\n",
              "    </tr>\n",
              "    <tr>\n",
              "      <th>5226</th>\n",
              "      <td>55227</td>\n",
              "      <td>0</td>\n",
              "      <td>7.0</td>\n",
              "      <td>Mobile Phone</td>\n",
              "      <td>1</td>\n",
              "      <td>11.0</td>\n",
              "      <td>Credit Card</td>\n",
              "      <td>Female</td>\n",
              "      <td>3.0</td>\n",
              "      <td>5</td>\n",
              "      <td>Mobile Phone</td>\n",
              "      <td>4</td>\n",
              "      <td>Married</td>\n",
              "      <td>10</td>\n",
              "      <td>0</td>\n",
              "      <td>12.0</td>\n",
              "      <td>2.0</td>\n",
              "      <td>2.0</td>\n",
              "      <td>3.0</td>\n",
              "      <td>163.38</td>\n",
              "    </tr>\n",
              "  </tbody>\n",
              "</table>\n",
              "</div>\n",
              "      <button class=\"colab-df-convert\" onclick=\"convertToInteractive('df-e893897b-9add-4c39-b4d4-dfde3031856d')\"\n",
              "              title=\"Convert this dataframe to an interactive table.\"\n",
              "              style=\"display:none;\">\n",
              "        \n",
              "  <svg xmlns=\"http://www.w3.org/2000/svg\" height=\"24px\"viewBox=\"0 0 24 24\"\n",
              "       width=\"24px\">\n",
              "    <path d=\"M0 0h24v24H0V0z\" fill=\"none\"/>\n",
              "    <path d=\"M18.56 5.44l.94 2.06.94-2.06 2.06-.94-2.06-.94-.94-2.06-.94 2.06-2.06.94zm-11 1L8.5 8.5l.94-2.06 2.06-.94-2.06-.94L8.5 2.5l-.94 2.06-2.06.94zm10 10l.94 2.06.94-2.06 2.06-.94-2.06-.94-.94-2.06-.94 2.06-2.06.94z\"/><path d=\"M17.41 7.96l-1.37-1.37c-.4-.4-.92-.59-1.43-.59-.52 0-1.04.2-1.43.59L10.3 9.45l-7.72 7.72c-.78.78-.78 2.05 0 2.83L4 21.41c.39.39.9.59 1.41.59.51 0 1.02-.2 1.41-.59l7.78-7.78 2.81-2.81c.8-.78.8-2.07 0-2.86zM5.41 20L4 18.59l7.72-7.72 1.47 1.35L5.41 20z\"/>\n",
              "  </svg>\n",
              "      </button>\n",
              "      \n",
              "  <style>\n",
              "    .colab-df-container {\n",
              "      display:flex;\n",
              "      flex-wrap:wrap;\n",
              "      gap: 12px;\n",
              "    }\n",
              "\n",
              "    .colab-df-convert {\n",
              "      background-color: #E8F0FE;\n",
              "      border: none;\n",
              "      border-radius: 50%;\n",
              "      cursor: pointer;\n",
              "      display: none;\n",
              "      fill: #1967D2;\n",
              "      height: 32px;\n",
              "      padding: 0 0 0 0;\n",
              "      width: 32px;\n",
              "    }\n",
              "\n",
              "    .colab-df-convert:hover {\n",
              "      background-color: #E2EBFA;\n",
              "      box-shadow: 0px 1px 2px rgba(60, 64, 67, 0.3), 0px 1px 3px 1px rgba(60, 64, 67, 0.15);\n",
              "      fill: #174EA6;\n",
              "    }\n",
              "\n",
              "    [theme=dark] .colab-df-convert {\n",
              "      background-color: #3B4455;\n",
              "      fill: #D2E3FC;\n",
              "    }\n",
              "\n",
              "    [theme=dark] .colab-df-convert:hover {\n",
              "      background-color: #434B5C;\n",
              "      box-shadow: 0px 1px 3px 1px rgba(0, 0, 0, 0.15);\n",
              "      filter: drop-shadow(0px 1px 2px rgba(0, 0, 0, 0.3));\n",
              "      fill: #FFFFFF;\n",
              "    }\n",
              "  </style>\n",
              "\n",
              "      <script>\n",
              "        const buttonEl =\n",
              "          document.querySelector('#df-e893897b-9add-4c39-b4d4-dfde3031856d button.colab-df-convert');\n",
              "        buttonEl.style.display =\n",
              "          google.colab.kernel.accessAllowed ? 'block' : 'none';\n",
              "\n",
              "        async function convertToInteractive(key) {\n",
              "          const element = document.querySelector('#df-e893897b-9add-4c39-b4d4-dfde3031856d');\n",
              "          const dataTable =\n",
              "            await google.colab.kernel.invokeFunction('convertToInteractive',\n",
              "                                                     [key], {});\n",
              "          if (!dataTable) return;\n",
              "\n",
              "          const docLinkHtml = 'Like what you see? Visit the ' +\n",
              "            '<a target=\"_blank\" href=https://colab.research.google.com/notebooks/data_table.ipynb>data table notebook</a>'\n",
              "            + ' to learn more about interactive tables.';\n",
              "          element.innerHTML = '';\n",
              "          dataTable['output_type'] = 'display_data';\n",
              "          await google.colab.output.renderOutput(dataTable, element);\n",
              "          const docLink = document.createElement('div');\n",
              "          docLink.innerHTML = docLinkHtml;\n",
              "          element.appendChild(docLink);\n",
              "        }\n",
              "      </script>\n",
              "    </div>\n",
              "  </div>\n",
              "  "
            ],
            "text/plain": [
              "      CustomerID  Churn  Tenure PreferredLoginDevice  CityTier  \\\n",
              "4483       54484      1     1.0         Mobile Phone         1   \n",
              "2813       52814      0    22.0             Computer         3   \n",
              "463        50464      0    23.0         Mobile Phone         1   \n",
              "4502       54503      0     5.0         Mobile Phone         1   \n",
              "5226       55227      0     7.0         Mobile Phone         1   \n",
              "\n",
              "      WarehouseToHome PreferredPaymentMode  Gender  HourSpendOnApp  \\\n",
              "4483              9.0          Credit Card    Male             3.0   \n",
              "2813              8.0          Credit Card    Male             3.0   \n",
              "463               8.0          Credit Card    Male             3.0   \n",
              "4502             14.0          Credit Card  Female             3.0   \n",
              "5226             11.0          Credit Card  Female             3.0   \n",
              "\n",
              "      NumberOfDeviceRegistered    PreferedOrderCat  SatisfactionScore  \\\n",
              "4483                         6        Mobile Phone                  1   \n",
              "2813                         4  Laptop & Accessory                  4   \n",
              "463                          3             Grocery                  3   \n",
              "4502                         4             Fashion                  1   \n",
              "5226                         5        Mobile Phone                  4   \n",
              "\n",
              "     MaritalStatus  NumberOfAddress  Complain  OrderAmountHikeFromlastYear  \\\n",
              "4483       Married                7         1                         14.0   \n",
              "2813       Married                3         0                         14.0   \n",
              "463       Divorced                6         0                         16.0   \n",
              "4502        Single                3         1                         15.0   \n",
              "5226       Married               10         0                         12.0   \n",
              "\n",
              "      CouponUsed  OrderCount  DaySinceLastOrder  CashbackAmount  \n",
              "4483         2.0         3.0                3.0          159.64  \n",
              "2813         1.0         1.0                8.0          153.90  \n",
              "463          NaN         1.0                3.0          276.39  \n",
              "4502         5.0         5.0               11.0          196.43  \n",
              "5226         2.0         2.0                3.0          163.38  "
            ]
          },
          "execution_count": 129,
          "metadata": {},
          "output_type": "execute_result"
        }
      ],
      "source": [
        "df = pd.read_excel('datasets/E_Commerce_Dataset.xlsx',sheet_name ='E_Comm')\n",
        "df.sample(5)"
      ]
    },
    {
      "cell_type": "code",
      "execution_count": 130,
      "metadata": {
        "id": "dUqG5dLL0bz4"
      },
      "outputs": [],
      "source": [
        "category_count = df['Churn'].value_counts()\n",
        "categories = category_count.index"
      ]
    },
    {
      "cell_type": "code",
      "execution_count": 131,
      "metadata": {
        "colab": {
          "base_uri": "https://localhost:8080/",
          "height": 502
        },
        "id": "s6pHlBPi0WNr",
        "outputId": "78717c4c-98e5-475f-d58c-7f1f75602582"
      },
      "outputs": [
        {
          "data": {
            "image/png": "[encoded data removed]",
            "text/plain": [
              "<Figure size 1200x500 with 1 Axes>"
            ]
          },
          "metadata": {},
          "output_type": "display_data"
        }
      ],
      "source": [
        "\n",
        "fig = plt.figure(figsize= (12, 5))\n",
        "\n",
        "ax = fig.add_subplot(111)\n",
        "\n",
        "sns.barplot(x = category_count.index, y = category_count )\n",
        "\n",
        "for a, p in enumerate(ax.patches):\n",
        "    ax.annotate(f'{categories[a]}\\n' + format(p.get_height(), '.0f'), xy = (p.get_x() + p.get_width() / 2.0, p.get_height()), xytext = (0,-25), size = 13, color = 'white' , ha = 'center', va = 'center', textcoords = 'offset points', bbox = dict(boxstyle = 'round', facecolor='none',edgecolor='white', alpha = 0.5) )\n",
        "    \n",
        "plt.xlabel('Categories', size = 15)\n",
        "\n",
        "plt.ylabel('The Number of Data', size= 15)\n",
        "\n",
        "plt.xticks(size = 12)\n",
        "\n",
        "plt.title(\"The number of data by Categories\" , size = 18)\n",
        "\n",
        "plt.show()"
      ]
    },
    {
      "attachments": {},
      "cell_type": "markdown",
      "metadata": {
        "id": "uyZkpcVyc8-4"
      },
      "source": [
        "**First of all, drop customerID column as it is of no use**"
      ]
    },
    {
      "cell_type": "code",
      "execution_count": 132,
      "metadata": {
        "colab": {
          "base_uri": "https://localhost:8080/"
        },
        "id": "oLPKu8Vrc8-5",
        "outputId": "c64a2732-f64b-4054-eea3-5fa7ecd6571f",
        "scrolled": false
      },
      "outputs": [
        {
          "data": {
            "text/plain": [
              "CustomerID                       int64\n",
              "Churn                            int64\n",
              "Tenure                         float64\n",
              "PreferredLoginDevice            object\n",
              "CityTier                         int64\n",
              "WarehouseToHome                float64\n",
              "PreferredPaymentMode            object\n",
              "Gender                          object\n",
              "HourSpendOnApp                 float64\n",
              "NumberOfDeviceRegistered         int64\n",
              "PreferedOrderCat                object\n",
              "SatisfactionScore                int64\n",
              "MaritalStatus                   object\n",
              "NumberOfAddress                  int64\n",
              "Complain                         int64\n",
              "OrderAmountHikeFromlastYear    float64\n",
              "CouponUsed                     float64\n",
              "OrderCount                     float64\n",
              "DaySinceLastOrder              float64\n",
              "CashbackAmount                 float64\n",
              "dtype: object"
            ]
          },
          "execution_count": 132,
          "metadata": {},
          "output_type": "execute_result"
        }
      ],
      "source": [
        "df.dtypes"
      ]
    },
    {
      "attachments": {},
      "cell_type": "markdown",
      "metadata": {
        "id": "ybwJCSTec8_K"
      },
      "source": [
        "**Unique values**"
      ]
    },
    {
      "cell_type": "code",
      "execution_count": 133,
      "metadata": {
        "id": "pyMiM1vNc8_K"
      },
      "outputs": [],
      "source": [
        "def print_unique_col_values(df):\n",
        "       for column in df:\n",
        "            if df[column].dtypes=='object':\n",
        "                print(f'{column}: {df[column].unique()}') "
      ]
    },
    {
      "cell_type": "code",
      "execution_count": 134,
      "metadata": {
        "colab": {
          "base_uri": "https://localhost:8080/"
        },
        "id": "Ek_s1pgBc8_K",
        "outputId": "6247f0e3-7d04-4dbb-ed65-c1fe5fc763fc",
        "scrolled": true
      },
      "outputs": [
        {
          "name": "stdout",
          "output_type": "stream",
          "text": [
            "PreferredLoginDevice: ['Mobile Phone' 'Phone' 'Computer']\n",
            "PreferredPaymentMode: ['Debit Card' 'UPI' 'CC' 'Cash on Delivery' 'E wallet' 'COD' 'Credit Card']\n",
            "Gender: ['Female' 'Male']\n",
            "PreferedOrderCat: ['Laptop & Accessory' 'Mobile' 'Mobile Phone' 'Others' 'Fashion' 'Grocery']\n",
            "MaritalStatus: ['Single' 'Divorced' 'Married']\n"
          ]
        }
      ],
      "source": [
        "print_unique_col_values(df)"
      ]
    },
    {
      "attachments": {},
      "cell_type": "markdown",
      "metadata": {
        "id": "TnbrArR1c8_M"
      },
      "source": [
        "# Label Encoding"
      ]
    },
    {
      "cell_type": "code",
      "execution_count": 135,
      "metadata": {
        "id": "PkORUxiRc8_M"
      },
      "outputs": [],
      "source": [
        "df['Gender'].replace({'Male': 1,'Female': 0},inplace=True)"
      ]
    },
    {
      "attachments": {},
      "cell_type": "markdown",
      "metadata": {
        "id": "JuWyLr6EoQZZ"
      },
      "source": [
        "# One-Hot Encoding"
      ]
    },
    {
      "cell_type": "code",
      "execution_count": 136,
      "metadata": {
        "colab": {
          "base_uri": "https://localhost:8080/"
        },
        "id": "L1SkTyn6c8_X",
        "outputId": "6ecb822d-b1b8-40fd-a22b-49eff2ca8d6b"
      },
      "outputs": [
        {
          "data": {
            "text/plain": [
              "Index(['CustomerID', 'Churn', 'Tenure', 'CityTier', 'WarehouseToHome',\n",
              "       'Gender', 'HourSpendOnApp', 'NumberOfDeviceRegistered',\n",
              "       'SatisfactionScore', 'NumberOfAddress', 'Complain',\n",
              "       'OrderAmountHikeFromlastYear', 'CouponUsed', 'OrderCount',\n",
              "       'DaySinceLastOrder', 'CashbackAmount', 'PreferredLoginDevice_Computer',\n",
              "       'PreferredLoginDevice_Mobile Phone', 'PreferredLoginDevice_Phone',\n",
              "       'PreferredPaymentMode_CC', 'PreferredPaymentMode_COD',\n",
              "       'PreferredPaymentMode_Cash on Delivery',\n",
              "       'PreferredPaymentMode_Credit Card', 'PreferredPaymentMode_Debit Card',\n",
              "       'PreferredPaymentMode_E wallet', 'PreferredPaymentMode_UPI',\n",
              "       'PreferedOrderCat_Fashion', 'PreferedOrderCat_Grocery',\n",
              "       'PreferedOrderCat_Laptop & Accessory', 'PreferedOrderCat_Mobile',\n",
              "       'PreferedOrderCat_Mobile Phone', 'PreferedOrderCat_Others',\n",
              "       'MaritalStatus_Divorced', 'MaritalStatus_Married',\n",
              "       'MaritalStatus_Single'],\n",
              "      dtype='object')"
            ]
          },
          "execution_count": 136,
          "metadata": {},
          "output_type": "execute_result"
        }
      ],
      "source": [
        "df = pd.get_dummies(df)\n",
        "df.columns"
      ]
    },
    {
      "cell_type": "code",
      "execution_count": 137,
      "metadata": {
        "colab": {
          "base_uri": "https://localhost:8080/",
          "height": 316
        },
        "id": "Q1ed2UYFc8_X",
        "outputId": "2eb74bc7-5fb0-4b5b-fdc9-c794a58fbc57"
      },
      "outputs": [
        {
          "data": {
            "text/html": [
              "\n",
              "  <div id=\"df-701e3e73-a429-43c4-99e8-39f08969e496\">\n",
              "    <div class=\"colab-df-container\">\n",
              "      <div>\n",
              "<style scoped>\n",
              "    .dataframe tbody tr th:only-of-type {\n",
              "        vertical-align: middle;\n",
              "    }\n",
              "\n",
              "    .dataframe tbody tr th {\n",
              "        vertical-align: top;\n",
              "    }\n",
              "\n",
              "    .dataframe thead th {\n",
              "        text-align: right;\n",
              "    }\n",
              "</style>\n",
              "<table border=\"1\" class=\"dataframe\">\n",
              "  <thead>\n",
              "    <tr style=\"text-align: right;\">\n",
              "      <th></th>\n",
              "      <th>CustomerID</th>\n",
              "      <th>Churn</th>\n",
              "      <th>Tenure</th>\n",
              "      <th>CityTier</th>\n",
              "      <th>WarehouseToHome</th>\n",
              "      <th>Gender</th>\n",
              "      <th>HourSpendOnApp</th>\n",
              "      <th>NumberOfDeviceRegistered</th>\n",
              "      <th>SatisfactionScore</th>\n",
              "      <th>NumberOfAddress</th>\n",
              "      <th>...</th>\n",
              "      <th>PreferredPaymentMode_UPI</th>\n",
              "      <th>PreferedOrderCat_Fashion</th>\n",
              "      <th>PreferedOrderCat_Grocery</th>\n",
              "      <th>PreferedOrderCat_Laptop &amp; Accessory</th>\n",
              "      <th>PreferedOrderCat_Mobile</th>\n",
              "      <th>PreferedOrderCat_Mobile Phone</th>\n",
              "      <th>PreferedOrderCat_Others</th>\n",
              "      <th>MaritalStatus_Divorced</th>\n",
              "      <th>MaritalStatus_Married</th>\n",
              "      <th>MaritalStatus_Single</th>\n",
              "    </tr>\n",
              "  </thead>\n",
              "  <tbody>\n",
              "    <tr>\n",
              "      <th>1872</th>\n",
              "      <td>51873</td>\n",
              "      <td>0</td>\n",
              "      <td>5.0</td>\n",
              "      <td>3</td>\n",
              "      <td>16.0</td>\n",
              "      <td>1</td>\n",
              "      <td>2.0</td>\n",
              "      <td>3</td>\n",
              "      <td>1</td>\n",
              "      <td>2</td>\n",
              "      <td>...</td>\n",
              "      <td>0</td>\n",
              "      <td>0</td>\n",
              "      <td>0</td>\n",
              "      <td>1</td>\n",
              "      <td>0</td>\n",
              "      <td>0</td>\n",
              "      <td>0</td>\n",
              "      <td>0</td>\n",
              "      <td>0</td>\n",
              "      <td>1</td>\n",
              "    </tr>\n",
              "    <tr>\n",
              "      <th>157</th>\n",
              "      <td>50158</td>\n",
              "      <td>0</td>\n",
              "      <td>2.0</td>\n",
              "      <td>3</td>\n",
              "      <td>8.0</td>\n",
              "      <td>1</td>\n",
              "      <td>2.0</td>\n",
              "      <td>3</td>\n",
              "      <td>2</td>\n",
              "      <td>2</td>\n",
              "      <td>...</td>\n",
              "      <td>0</td>\n",
              "      <td>0</td>\n",
              "      <td>0</td>\n",
              "      <td>1</td>\n",
              "      <td>0</td>\n",
              "      <td>0</td>\n",
              "      <td>0</td>\n",
              "      <td>0</td>\n",
              "      <td>0</td>\n",
              "      <td>1</td>\n",
              "    </tr>\n",
              "    <tr>\n",
              "      <th>268</th>\n",
              "      <td>50269</td>\n",
              "      <td>0</td>\n",
              "      <td>7.0</td>\n",
              "      <td>3</td>\n",
              "      <td>10.0</td>\n",
              "      <td>0</td>\n",
              "      <td>3.0</td>\n",
              "      <td>3</td>\n",
              "      <td>3</td>\n",
              "      <td>10</td>\n",
              "      <td>...</td>\n",
              "      <td>0</td>\n",
              "      <td>0</td>\n",
              "      <td>0</td>\n",
              "      <td>1</td>\n",
              "      <td>0</td>\n",
              "      <td>0</td>\n",
              "      <td>0</td>\n",
              "      <td>1</td>\n",
              "      <td>0</td>\n",
              "      <td>0</td>\n",
              "    </tr>\n",
              "    <tr>\n",
              "      <th>262</th>\n",
              "      <td>50263</td>\n",
              "      <td>0</td>\n",
              "      <td>13.0</td>\n",
              "      <td>3</td>\n",
              "      <td>8.0</td>\n",
              "      <td>0</td>\n",
              "      <td>2.0</td>\n",
              "      <td>3</td>\n",
              "      <td>4</td>\n",
              "      <td>8</td>\n",
              "      <td>...</td>\n",
              "      <td>0</td>\n",
              "      <td>0</td>\n",
              "      <td>0</td>\n",
              "      <td>1</td>\n",
              "      <td>0</td>\n",
              "      <td>0</td>\n",
              "      <td>0</td>\n",
              "      <td>0</td>\n",
              "      <td>1</td>\n",
              "      <td>0</td>\n",
              "    </tr>\n",
              "    <tr>\n",
              "      <th>4779</th>\n",
              "      <td>54780</td>\n",
              "      <td>0</td>\n",
              "      <td>7.0</td>\n",
              "      <td>3</td>\n",
              "      <td>7.0</td>\n",
              "      <td>1</td>\n",
              "      <td>3.0</td>\n",
              "      <td>2</td>\n",
              "      <td>5</td>\n",
              "      <td>3</td>\n",
              "      <td>...</td>\n",
              "      <td>0</td>\n",
              "      <td>0</td>\n",
              "      <td>0</td>\n",
              "      <td>1</td>\n",
              "      <td>0</td>\n",
              "      <td>0</td>\n",
              "      <td>0</td>\n",
              "      <td>0</td>\n",
              "      <td>1</td>\n",
              "      <td>0</td>\n",
              "    </tr>\n",
              "  </tbody>\n",
              "</table>\n",
              "<p>5 rows × 35 columns</p>\n",
              "</div>\n",
              "      <button class=\"colab-df-convert\" onclick=\"convertToInteractive('df-701e3e73-a429-43c4-99e8-39f08969e496')\"\n",
              "              title=\"Convert this dataframe to an interactive table.\"\n",
              "              style=\"display:none;\">\n",
              "        \n",
              "  <svg xmlns=\"http://www.w3.org/2000/svg\" height=\"24px\"viewBox=\"0 0 24 24\"\n",
              "       width=\"24px\">\n",
              "    <path d=\"M0 0h24v24H0V0z\" fill=\"none\"/>\n",
              "    <path d=\"M18.56 5.44l.94 2.06.94-2.06 2.06-.94-2.06-.94-.94-2.06-.94 2.06-2.06.94zm-11 1L8.5 8.5l.94-2.06 2.06-.94-2.06-.94L8.5 2.5l-.94 2.06-2.06.94zm10 10l.94 2.06.94-2.06 2.06-.94-2.06-.94-.94-2.06-.94 2.06-2.06.94z\"/><path d=\"M17.41 7.96l-1.37-1.37c-.4-.4-.92-.59-1.43-.59-.52 0-1.04.2-1.43.59L10.3 9.45l-7.72 7.72c-.78.78-.78 2.05 0 2.83L4 21.41c.39.39.9.59 1.41.59.51 0 1.02-.2 1.41-.59l7.78-7.78 2.81-2.81c.8-.78.8-2.07 0-2.86zM5.41 20L4 18.59l7.72-7.72 1.47 1.35L5.41 20z\"/>\n",
              "  </svg>\n",
              "      </button>\n",
              "      \n",
              "  <style>\n",
              "    .colab-df-container {\n",
              "      display:flex;\n",
              "      flex-wrap:wrap;\n",
              "      gap: 12px;\n",
              "    }\n",
              "\n",
              "    .colab-df-convert {\n",
              "      background-color: #E8F0FE;\n",
              "      border: none;\n",
              "      border-radius: 50%;\n",
              "      cursor: pointer;\n",
              "      display: none;\n",
              "      fill: #1967D2;\n",
              "      height: 32px;\n",
              "      padding: 0 0 0 0;\n",
              "      width: 32px;\n",
              "    }\n",
              "\n",
              "    .colab-df-convert:hover {\n",
              "      background-color: #E2EBFA;\n",
              "      box-shadow: 0px 1px 2px rgba(60, 64, 67, 0.3), 0px 1px 3px 1px rgba(60, 64, 67, 0.15);\n",
              "      fill: #174EA6;\n",
              "    }\n",
              "\n",
              "    [theme=dark] .colab-df-convert {\n",
              "      background-color: #3B4455;\n",
              "      fill: #D2E3FC;\n",
              "    }\n",
              "\n",
              "    [theme=dark] .colab-df-convert:hover {\n",
              "      background-color: #434B5C;\n",
              "      box-shadow: 0px 1px 3px 1px rgba(0, 0, 0, 0.15);\n",
              "      filter: drop-shadow(0px 1px 2px rgba(0, 0, 0, 0.3));\n",
              "      fill: #FFFFFF;\n",
              "    }\n",
              "  </style>\n",
              "\n",
              "      <script>\n",
              "        const buttonEl =\n",
              "          document.querySelector('#df-701e3e73-a429-43c4-99e8-39f08969e496 button.colab-df-convert');\n",
              "        buttonEl.style.display =\n",
              "          google.colab.kernel.accessAllowed ? 'block' : 'none';\n",
              "\n",
              "        async function convertToInteractive(key) {\n",
              "          const element = document.querySelector('#df-701e3e73-a429-43c4-99e8-39f08969e496');\n",
              "          const dataTable =\n",
              "            await google.colab.kernel.invokeFunction('convertToInteractive',\n",
              "                                                     [key], {});\n",
              "          if (!dataTable) return;\n",
              "\n",
              "          const docLinkHtml = 'Like what you see? Visit the ' +\n",
              "            '<a target=\"_blank\" href=https://colab.research.google.com/notebooks/data_table.ipynb>data table notebook</a>'\n",
              "            + ' to learn more about interactive tables.';\n",
              "          element.innerHTML = '';\n",
              "          dataTable['output_type'] = 'display_data';\n",
              "          await google.colab.output.renderOutput(dataTable, element);\n",
              "          const docLink = document.createElement('div');\n",
              "          docLink.innerHTML = docLinkHtml;\n",
              "          element.appendChild(docLink);\n",
              "        }\n",
              "      </script>\n",
              "    </div>\n",
              "  </div>\n",
              "  "
            ],
            "text/plain": [
              "      CustomerID  Churn  Tenure  CityTier  WarehouseToHome  Gender  \\\n",
              "1872       51873      0     5.0         3             16.0       1   \n",
              "157        50158      0     2.0         3              8.0       1   \n",
              "268        50269      0     7.0         3             10.0       0   \n",
              "262        50263      0    13.0         3              8.0       0   \n",
              "4779       54780      0     7.0         3              7.0       1   \n",
              "\n",
              "      HourSpendOnApp  NumberOfDeviceRegistered  SatisfactionScore  \\\n",
              "1872             2.0                         3                  1   \n",
              "157              2.0                         3                  2   \n",
              "268              3.0                         3                  3   \n",
              "262              2.0                         3                  4   \n",
              "4779             3.0                         2                  5   \n",
              "\n",
              "      NumberOfAddress  ...  PreferredPaymentMode_UPI  \\\n",
              "1872                2  ...                         0   \n",
              "157                 2  ...                         0   \n",
              "268                10  ...                         0   \n",
              "262                 8  ...                         0   \n",
              "4779                3  ...                         0   \n",
              "\n",
              "      PreferedOrderCat_Fashion  PreferedOrderCat_Grocery  \\\n",
              "1872                         0                         0   \n",
              "157                          0                         0   \n",
              "268                          0                         0   \n",
              "262                          0                         0   \n",
              "4779                         0                         0   \n",
              "\n",
              "      PreferedOrderCat_Laptop & Accessory  PreferedOrderCat_Mobile  \\\n",
              "1872                                    1                        0   \n",
              "157                                     1                        0   \n",
              "268                                     1                        0   \n",
              "262                                     1                        0   \n",
              "4779                                    1                        0   \n",
              "\n",
              "      PreferedOrderCat_Mobile Phone  PreferedOrderCat_Others  \\\n",
              "1872                              0                        0   \n",
              "157                               0                        0   \n",
              "268                               0                        0   \n",
              "262                               0                        0   \n",
              "4779                              0                        0   \n",
              "\n",
              "      MaritalStatus_Divorced  MaritalStatus_Married  MaritalStatus_Single  \n",
              "1872                       0                      0                     1  \n",
              "157                        0                      0                     1  \n",
              "268                        1                      0                     0  \n",
              "262                        0                      1                     0  \n",
              "4779                       0                      1                     0  \n",
              "\n",
              "[5 rows x 35 columns]"
            ]
          },
          "execution_count": 137,
          "metadata": {},
          "output_type": "execute_result"
        }
      ],
      "source": [
        "df.sample(5)"
      ]
    },
    {
      "cell_type": "code",
      "execution_count": 138,
      "metadata": {
        "colab": {
          "base_uri": "https://localhost:8080/"
        },
        "id": "B0OGsZwDc8_Y",
        "outputId": "3336d9c9-45e7-47bf-ad68-5de64648ecb8",
        "scrolled": true
      },
      "outputs": [
        {
          "name": "stdout",
          "output_type": "stream",
          "text": [
            "1856\n"
          ]
        }
      ],
      "source": [
        "nan_count = df.isna().sum().sum()\n",
        "print(nan_count )"
      ]
    },
    {
      "attachments": {},
      "cell_type": "markdown",
      "metadata": {
        "id": "14LdVhVgoQZa"
      },
      "source": [
        "# Data Imputaion"
      ]
    },
    {
      "cell_type": "code",
      "execution_count": 139,
      "metadata": {
        "id": "Z3uB6h6A7ZBE"
      },
      "outputs": [],
      "source": [
        "df.fillna(df.median(), inplace=True)"
      ]
    },
    {
      "attachments": {},
      "cell_type": "markdown",
      "metadata": {
        "id": "z2i6U9tDoQZa"
      },
      "source": [
        "# Feature Scaling"
      ]
    },
    {
      "cell_type": "code",
      "execution_count": 140,
      "metadata": {
        "id": "j8OHcXtMc8_Y"
      },
      "outputs": [],
      "source": [
        "cols_to_scale = ['CashbackAmount', 'Tenure', 'WarehouseToHome' ]\n",
        "\n",
        "from sklearn.preprocessing import MinMaxScaler\n",
        "scaler = MinMaxScaler()\n",
        "df[cols_to_scale] = scaler.fit_transform(df[cols_to_scale])"
      ]
    },
    {
      "attachments": {},
      "cell_type": "markdown",
      "metadata": {
        "id": "GJQzxHZSoQZb"
      },
      "source": [
        "# Undersampling"
      ]
    },
    {
      "cell_type": "code",
      "execution_count": 141,
      "metadata": {
        "colab": {
          "base_uri": "https://localhost:8080/"
        },
        "id": "nNy0vnX382sw",
        "outputId": "58387f59-b73d-4654-f852-a380af009c25"
      },
      "outputs": [
        {
          "name": "stdout",
          "output_type": "stream",
          "text": [
            "4682\n"
          ]
        }
      ],
      "source": [
        "#Undersampling to handle class imbalance\n",
        "def Under_Sampling(df):\n",
        "  df_pos = df[df['Churn'] == 1]\n",
        "  df_neg = df[df['Churn'] == 0]\n",
        "  msk = np.random.rand(len(df_neg)) < 0.25\n",
        "  print (len(msk))\n",
        "  df_neg_sample = df_neg[msk]\n",
        "  df_sample_data = pd.concat([df_pos,df_neg_sample])\n",
        "  df_sample_data = df_sample_data.sample(frac=1).reset_index(drop=True)\n",
        "  return df_sample_data\n",
        "\n",
        "\n",
        "df = Under_Sampling(df)  \n"
      ]
    },
    {
      "cell_type": "code",
      "execution_count": 142,
      "metadata": {
        "id": "lcw-EoPBuX0_"
      },
      "outputs": [],
      "source": [
        "category_count = df['Churn'].value_counts()\n",
        "categories = category_count.index"
      ]
    },
    {
      "cell_type": "code",
      "execution_count": 143,
      "metadata": {
        "colab": {
          "base_uri": "https://localhost:8080/",
          "height": 540
        },
        "id": "jFSYolbqr3b5",
        "outputId": "87c24d81-a978-4357-a72e-76f4accf06a8"
      },
      "outputs": [
        {
          "name": "stderr",
          "output_type": "stream",
          "text": [
            "WARNING:matplotlib.legend:No artists with labels found to put in legend.  Note that artists whose label start with an underscore are ignored when legend() is called with no argument.\n"
          ]
        },
        {
          "data": {
            "image/png": "[encoded data removed]",
            "text/plain": [
              "<Figure size 1200x500 with 1 Axes>"
            ]
          },
          "metadata": {},
          "output_type": "display_data"
        }
      ],
      "source": [
        "fig = plt.figure(figsize= (12, 5))\n",
        "\n",
        "ax = fig.add_subplot(111)\n",
        "\n",
        "sns.barplot(x = category_count.index, y = category_count )\n",
        "\n",
        "for a, p in enumerate(ax.patches):\n",
        "    ax.annotate(f'{categories[a]}\\n' + format(p.get_height(), '.0f'), xy = (p.get_x() + p.get_width() / 2.0, p.get_height()), xytext = (0,-25), size = 13, color = 'white' , ha = 'center', va = 'center', textcoords = 'offset points', bbox = dict(boxstyle = 'round', facecolor='none',edgecolor='white', alpha = 0.5) )\n",
        "    \n",
        "plt.xlabel('Categories', size = 15)\n",
        "\n",
        "plt.ylabel('The Number of Data', size= 15)\n",
        "\n",
        "plt.xticks(size = 12)\n",
        "\n",
        "plt.title(\"The number of data by Categories\" , size = 18)\n",
        "\n",
        "plt.legend()\n",
        "\n",
        "plt.show()"
      ]
    },
    {
      "attachments": {},
      "cell_type": "markdown",
      "metadata": {
        "id": "5u3qzVEcc8_Y"
      },
      "source": [
        "# Train-Test split"
      ]
    },
    {
      "cell_type": "code",
      "execution_count": 144,
      "metadata": {
        "colab": {
          "base_uri": "https://localhost:8080/"
        },
        "id": "P67CL45Qc8_Y",
        "outputId": "54584ded-6885-4ca0-8f72-629342f9c695"
      },
      "outputs": [
        {
          "name": "stdout",
          "output_type": "stream",
          "text": [
            "(1726, 33)\n",
            "(1726,)\n",
            "(216, 33)\n",
            "(216,)\n",
            "(216, 33)\n",
            "(216,)\n"
          ]
        },
        {
          "data": {
            "text/plain": [
              "(None, None)"
            ]
          },
          "execution_count": 144,
          "metadata": {},
          "output_type": "execute_result"
        }
      ],
      "source": [
        "drop_cols = ['CustomerID']\n",
        "# y = df['Churn']\n",
        "\n",
        "df = df.drop(drop_cols,axis=1)\n",
        "# y = df['Churn']\n",
        "\n",
        "X_train, y_train, X_valid, y_valid, X_test, y_test = train_valid_test_split(df, target = 'Churn', \n",
        "                                                                            train_size=0.8, valid_size=0.1, test_size=0.1)\n",
        "\n",
        "print(X_train.shape), print(y_train.shape)\n",
        "print(X_valid.shape), print(y_valid.shape)\n",
        "print(X_test.shape), print(y_test.shape)"
      ]
    },
    {
      "cell_type": "code",
      "execution_count": 145,
      "metadata": {
        "colab": {
          "base_uri": "https://localhost:8080/"
        },
        "id": "rnoQNR3mc8_Z",
        "outputId": "6d9eb487-1924-4b8b-ced0-cb85a3f27584"
      },
      "outputs": [
        {
          "data": {
            "text/plain": [
              "(1726, 33)"
            ]
          },
          "execution_count": 145,
          "metadata": {},
          "output_type": "execute_result"
        }
      ],
      "source": [
        "X_train.shape"
      ]
    },
    {
      "cell_type": "code",
      "execution_count": 146,
      "metadata": {
        "colab": {
          "base_uri": "https://localhost:8080/"
        },
        "id": "Il25h84-c8_Z",
        "outputId": "6db71a4a-ab50-4f1e-a632-07d44cae1a0e",
        "scrolled": true
      },
      "outputs": [
        {
          "data": {
            "text/plain": [
              "(216, 33)"
            ]
          },
          "execution_count": 146,
          "metadata": {},
          "output_type": "execute_result"
        }
      ],
      "source": [
        "X_test.shape"
      ]
    },
    {
      "cell_type": "code",
      "execution_count": 147,
      "metadata": {
        "colab": {
          "base_uri": "https://localhost:8080/"
        },
        "id": "CDTL5xVFc8_Z",
        "outputId": "f6dd3d82-24d9-4a6d-c93e-95e801189849"
      },
      "outputs": [
        {
          "data": {
            "text/plain": [
              "33"
            ]
          },
          "execution_count": 147,
          "metadata": {},
          "output_type": "execute_result"
        }
      ],
      "source": [
        "len(X_train.columns)"
      ]
    },
    {
      "attachments": {},
      "cell_type": "markdown",
      "metadata": {
        "id": "T6cOyRA8c8_Z"
      },
      "source": [
        "# Model Building and Training"
      ]
    },
    {
      "cell_type": "code",
      "execution_count": 116,
      "metadata": {
        "colab": {
          "base_uri": "https://localhost:8080/"
        },
        "id": "lLdmYdDic8_Z",
        "outputId": "28c1e7fe-5074-49fb-9275-a97d9fd71165",
        "scrolled": false
      },
      "outputs": [
        {
          "name": "stdout",
          "output_type": "stream",
          "text": [
            "Epoch 1/150\n",
            "55/55 [==============================] - 2s 8ms/step - loss: 1.9821 - accuracy: 0.5587 - val_loss: 0.7081 - val_accuracy: 0.6065\n",
            "Epoch 2/150\n",
            "55/55 [==============================] - 0s 7ms/step - loss: 0.7198 - accuracy: 0.5477 - val_loss: 0.6766 - val_accuracy: 0.5648\n",
            "Epoch 3/150\n",
            "55/55 [==============================] - 0s 4ms/step - loss: 0.6927 - accuracy: 0.5442 - val_loss: 0.6725 - val_accuracy: 0.5741\n",
            "Epoch 4/150\n",
            "55/55 [==============================] - 0s 4ms/step - loss: 0.6807 - accuracy: 0.5870 - val_loss: 0.6524 - val_accuracy: 0.6435\n",
            "Epoch 5/150\n",
            "55/55 [==============================] - 0s 5ms/step - loss: 0.6663 - accuracy: 0.6200 - val_loss: 0.6358 - val_accuracy: 0.6435\n",
            "Epoch 6/150\n",
            "55/55 [==============================] - 0s 4ms/step - loss: 0.6540 - accuracy: 0.6374 - val_loss: 0.6218 - val_accuracy: 0.6713\n",
            "Epoch 7/150\n",
            "55/55 [==============================] - 0s 6ms/step - loss: 0.6399 - accuracy: 0.6657 - val_loss: 0.6002 - val_accuracy: 0.6806\n",
            "Epoch 8/150\n",
            "55/55 [==============================] - 0s 7ms/step - loss: 0.6274 - accuracy: 0.6813 - val_loss: 0.5955 - val_accuracy: 0.6852\n",
            "Epoch 9/150\n",
            "55/55 [==============================] - 1s 10ms/step - loss: 0.6138 - accuracy: 0.7045 - val_loss: 0.5817 - val_accuracy: 0.6991\n",
            "Epoch 10/150\n",
            "55/55 [==============================] - 1s 10ms/step - loss: 0.6014 - accuracy: 0.7126 - val_loss: 0.5726 - val_accuracy: 0.7361\n",
            "Epoch 11/150\n",
            "55/55 [==============================] - 1s 11ms/step - loss: 0.5943 - accuracy: 0.7131 - val_loss: 0.5761 - val_accuracy: 0.7315\n",
            "Epoch 12/150\n",
            "55/55 [==============================] - 1s 10ms/step - loss: 0.5844 - accuracy: 0.7206 - val_loss: 0.5665 - val_accuracy: 0.7546\n",
            "Epoch 13/150\n",
            "55/55 [==============================] - 1s 12ms/step - loss: 0.5734 - accuracy: 0.7415 - val_loss: 0.5544 - val_accuracy: 0.7454\n",
            "Epoch 14/150\n",
            "55/55 [==============================] - 1s 14ms/step - loss: 0.5650 - accuracy: 0.7461 - val_loss: 0.5574 - val_accuracy: 0.7269\n",
            "Epoch 15/150\n",
            "55/55 [==============================] - 0s 9ms/step - loss: 0.5634 - accuracy: 0.7606 - val_loss: 0.5472 - val_accuracy: 0.7500\n",
            "Epoch 16/150\n",
            "55/55 [==============================] - 0s 8ms/step - loss: 0.5497 - accuracy: 0.7640 - val_loss: 0.5449 - val_accuracy: 0.7500\n",
            "Epoch 17/150\n",
            "55/55 [==============================] - 0s 9ms/step - loss: 0.5419 - accuracy: 0.7744 - val_loss: 0.5433 - val_accuracy: 0.7222\n",
            "Epoch 18/150\n",
            "55/55 [==============================] - 0s 9ms/step - loss: 0.5376 - accuracy: 0.7767 - val_loss: 0.5346 - val_accuracy: 0.7407\n",
            "Epoch 19/150\n",
            "55/55 [==============================] - 0s 8ms/step - loss: 0.5303 - accuracy: 0.7733 - val_loss: 0.5330 - val_accuracy: 0.7454\n",
            "Epoch 20/150\n",
            "55/55 [==============================] - 1s 9ms/step - loss: 0.5216 - accuracy: 0.7929 - val_loss: 0.5216 - val_accuracy: 0.7546\n",
            "Epoch 21/150\n",
            "55/55 [==============================] - 1s 9ms/step - loss: 0.5182 - accuracy: 0.7866 - val_loss: 0.5171 - val_accuracy: 0.7593\n",
            "Epoch 22/150\n",
            "55/55 [==============================] - 1s 9ms/step - loss: 0.5105 - accuracy: 0.7860 - val_loss: 0.5184 - val_accuracy: 0.7500\n",
            "Epoch 23/150\n",
            "55/55 [==============================] - 0s 7ms/step - loss: 0.5011 - accuracy: 0.7958 - val_loss: 0.5061 - val_accuracy: 0.7778\n",
            "Epoch 24/150\n",
            "55/55 [==============================] - 0s 8ms/step - loss: 0.5054 - accuracy: 0.7767 - val_loss: 0.5075 - val_accuracy: 0.7778\n",
            "Epoch 25/150\n",
            "55/55 [==============================] - 0s 9ms/step - loss: 0.4912 - accuracy: 0.7947 - val_loss: 0.5011 - val_accuracy: 0.7685\n",
            "Epoch 26/150\n",
            "55/55 [==============================] - 0s 8ms/step - loss: 0.4862 - accuracy: 0.7981 - val_loss: 0.4922 - val_accuracy: 0.7870\n",
            "Epoch 27/150\n",
            "55/55 [==============================] - 0s 7ms/step - loss: 0.4803 - accuracy: 0.8016 - val_loss: 0.4908 - val_accuracy: 0.7639\n",
            "Epoch 28/150\n",
            "55/55 [==============================] - 0s 7ms/step - loss: 0.4751 - accuracy: 0.8057 - val_loss: 0.4875 - val_accuracy: 0.7824\n",
            "Epoch 29/150\n",
            "55/55 [==============================] - 0s 8ms/step - loss: 0.4728 - accuracy: 0.8057 - val_loss: 0.4790 - val_accuracy: 0.7870\n",
            "Epoch 30/150\n",
            "55/55 [==============================] - 1s 10ms/step - loss: 0.4644 - accuracy: 0.8132 - val_loss: 0.4952 - val_accuracy: 0.7593\n",
            "Epoch 31/150\n",
            "55/55 [==============================] - 0s 8ms/step - loss: 0.4582 - accuracy: 0.8167 - val_loss: 0.4785 - val_accuracy: 0.7685\n",
            "Epoch 32/150\n",
            "55/55 [==============================] - 0s 8ms/step - loss: 0.4513 - accuracy: 0.8201 - val_loss: 0.4945 - val_accuracy: 0.7731\n",
            "Epoch 33/150\n",
            "55/55 [==============================] - 0s 5ms/step - loss: 0.4709 - accuracy: 0.7970 - val_loss: 0.4660 - val_accuracy: 0.8009\n",
            "Epoch 34/150\n",
            "55/55 [==============================] - 0s 4ms/step - loss: 0.4442 - accuracy: 0.8143 - val_loss: 0.4622 - val_accuracy: 0.8056\n",
            "Epoch 35/150\n",
            "55/55 [==============================] - 0s 4ms/step - loss: 0.4369 - accuracy: 0.8224 - val_loss: 0.4839 - val_accuracy: 0.7917\n",
            "Epoch 36/150\n",
            "55/55 [==============================] - 0s 4ms/step - loss: 0.4463 - accuracy: 0.8213 - val_loss: 0.4632 - val_accuracy: 0.7778\n",
            "Epoch 37/150\n",
            "55/55 [==============================] - 0s 4ms/step - loss: 0.4291 - accuracy: 0.8271 - val_loss: 0.4553 - val_accuracy: 0.7963\n",
            "Epoch 38/150\n",
            "55/55 [==============================] - 0s 4ms/step - loss: 0.4218 - accuracy: 0.8259 - val_loss: 0.4633 - val_accuracy: 0.7870\n",
            "Epoch 39/150\n",
            "55/55 [==============================] - 0s 6ms/step - loss: 0.4264 - accuracy: 0.8271 - val_loss: 0.4531 - val_accuracy: 0.8009\n",
            "Epoch 40/150\n",
            "55/55 [==============================] - 0s 7ms/step - loss: 0.4163 - accuracy: 0.8311 - val_loss: 0.4588 - val_accuracy: 0.8009\n",
            "Epoch 41/150\n",
            "55/55 [==============================] - 0s 7ms/step - loss: 0.4094 - accuracy: 0.8404 - val_loss: 0.4448 - val_accuracy: 0.7870\n",
            "Epoch 42/150\n",
            "55/55 [==============================] - 0s 7ms/step - loss: 0.4224 - accuracy: 0.8248 - val_loss: 0.4465 - val_accuracy: 0.7870\n",
            "Epoch 43/150\n",
            "55/55 [==============================] - 0s 7ms/step - loss: 0.4002 - accuracy: 0.8415 - val_loss: 0.4445 - val_accuracy: 0.7917\n",
            "Epoch 44/150\n",
            "55/55 [==============================] - 0s 6ms/step - loss: 0.3985 - accuracy: 0.8311 - val_loss: 0.4357 - val_accuracy: 0.8148\n",
            "Epoch 45/150\n",
            "55/55 [==============================] - 0s 7ms/step - loss: 0.3962 - accuracy: 0.8438 - val_loss: 0.4411 - val_accuracy: 0.8148\n",
            "Epoch 46/150\n",
            "55/55 [==============================] - 0s 8ms/step - loss: 0.3911 - accuracy: 0.8433 - val_loss: 0.4328 - val_accuracy: 0.8056\n",
            "Epoch 47/150\n",
            "55/55 [==============================] - 0s 5ms/step - loss: 0.3832 - accuracy: 0.8456 - val_loss: 0.4308 - val_accuracy: 0.8056\n",
            "Epoch 48/150\n",
            "55/55 [==============================] - 0s 5ms/step - loss: 0.3800 - accuracy: 0.8496 - val_loss: 0.4377 - val_accuracy: 0.8009\n",
            "Epoch 49/150\n",
            "55/55 [==============================] - 0s 4ms/step - loss: 0.3760 - accuracy: 0.8566 - val_loss: 0.4259 - val_accuracy: 0.8287\n",
            "Epoch 50/150\n",
            "55/55 [==============================] - 0s 4ms/step - loss: 0.3776 - accuracy: 0.8485 - val_loss: 0.4315 - val_accuracy: 0.8194\n",
            "Epoch 51/150\n",
            "55/55 [==============================] - 0s 4ms/step - loss: 0.3676 - accuracy: 0.8571 - val_loss: 0.4223 - val_accuracy: 0.8148\n",
            "Epoch 52/150\n",
            "55/55 [==============================] - 0s 5ms/step - loss: 0.3750 - accuracy: 0.8519 - val_loss: 0.4192 - val_accuracy: 0.8241\n",
            "Epoch 53/150\n",
            "55/55 [==============================] - 0s 4ms/step - loss: 0.3649 - accuracy: 0.8548 - val_loss: 0.4253 - val_accuracy: 0.8148\n",
            "Epoch 54/150\n",
            "55/55 [==============================] - 0s 5ms/step - loss: 0.3604 - accuracy: 0.8519 - val_loss: 0.4210 - val_accuracy: 0.8148\n",
            "Epoch 55/150\n",
            "55/55 [==============================] - 0s 5ms/step - loss: 0.3564 - accuracy: 0.8629 - val_loss: 0.4174 - val_accuracy: 0.8287\n",
            "Epoch 56/150\n",
            "55/55 [==============================] - 0s 4ms/step - loss: 0.3521 - accuracy: 0.8583 - val_loss: 0.4167 - val_accuracy: 0.8148\n",
            "Epoch 57/150\n",
            "55/55 [==============================] - 0s 4ms/step - loss: 0.3550 - accuracy: 0.8589 - val_loss: 0.4376 - val_accuracy: 0.7870\n",
            "Epoch 58/150\n",
            "55/55 [==============================] - 0s 4ms/step - loss: 0.3473 - accuracy: 0.8612 - val_loss: 0.4188 - val_accuracy: 0.8148\n",
            "Epoch 59/150\n",
            "55/55 [==============================] - 0s 5ms/step - loss: 0.3571 - accuracy: 0.8514 - val_loss: 0.4145 - val_accuracy: 0.8194\n",
            "Epoch 60/150\n",
            "55/55 [==============================] - 0s 5ms/step - loss: 0.3371 - accuracy: 0.8687 - val_loss: 0.4135 - val_accuracy: 0.8148\n",
            "Epoch 61/150\n",
            "55/55 [==============================] - 0s 5ms/step - loss: 0.3353 - accuracy: 0.8728 - val_loss: 0.4194 - val_accuracy: 0.8194\n",
            "Epoch 62/150\n",
            "55/55 [==============================] - 0s 4ms/step - loss: 0.3340 - accuracy: 0.8704 - val_loss: 0.4094 - val_accuracy: 0.8287\n",
            "Epoch 63/150\n",
            "55/55 [==============================] - 0s 5ms/step - loss: 0.3334 - accuracy: 0.8693 - val_loss: 0.4088 - val_accuracy: 0.8333\n",
            "Epoch 64/150\n",
            "55/55 [==============================] - 0s 4ms/step - loss: 0.3279 - accuracy: 0.8652 - val_loss: 0.4100 - val_accuracy: 0.8148\n",
            "Epoch 65/150\n",
            "55/55 [==============================] - 0s 5ms/step - loss: 0.3214 - accuracy: 0.8797 - val_loss: 0.4282 - val_accuracy: 0.8009\n",
            "Epoch 66/150\n",
            "55/55 [==============================] - 0s 4ms/step - loss: 0.3166 - accuracy: 0.8768 - val_loss: 0.4123 - val_accuracy: 0.8194\n",
            "Epoch 67/150\n",
            "55/55 [==============================] - 0s 4ms/step - loss: 0.3151 - accuracy: 0.8797 - val_loss: 0.4033 - val_accuracy: 0.8241\n",
            "Epoch 68/150\n",
            "55/55 [==============================] - 0s 4ms/step - loss: 0.3136 - accuracy: 0.8797 - val_loss: 0.4652 - val_accuracy: 0.7731\n",
            "Epoch 69/150\n",
            "55/55 [==============================] - 0s 5ms/step - loss: 0.3833 - accuracy: 0.8346 - val_loss: 0.4045 - val_accuracy: 0.8194\n",
            "Epoch 70/150\n",
            "55/55 [==============================] - 0s 5ms/step - loss: 0.3221 - accuracy: 0.8681 - val_loss: 0.4201 - val_accuracy: 0.8102\n",
            "Epoch 71/150\n",
            "55/55 [==============================] - 0s 5ms/step - loss: 0.2952 - accuracy: 0.8739 - val_loss: 0.4298 - val_accuracy: 0.8241\n",
            "Epoch 72/150\n",
            "55/55 [==============================] - 0s 4ms/step - loss: 0.3170 - accuracy: 0.8623 - val_loss: 0.4280 - val_accuracy: 0.8380\n",
            "Epoch 73/150\n",
            "55/55 [==============================] - 0s 5ms/step - loss: 0.2846 - accuracy: 0.8832 - val_loss: 0.4352 - val_accuracy: 0.8148\n",
            "Epoch 74/150\n",
            "55/55 [==============================] - 0s 5ms/step - loss: 0.2928 - accuracy: 0.8774 - val_loss: 0.4181 - val_accuracy: 0.8148\n",
            "Epoch 75/150\n",
            "55/55 [==============================] - 0s 4ms/step - loss: 0.2767 - accuracy: 0.8855 - val_loss: 0.4458 - val_accuracy: 0.8148\n",
            "Epoch 76/150\n",
            "55/55 [==============================] - 0s 5ms/step - loss: 0.2775 - accuracy: 0.8837 - val_loss: 0.4190 - val_accuracy: 0.8287\n",
            "Epoch 77/150\n",
            "55/55 [==============================] - 0s 5ms/step - loss: 0.2702 - accuracy: 0.8913 - val_loss: 0.4126 - val_accuracy: 0.8241\n",
            "Epoch 78/150\n",
            "55/55 [==============================] - 0s 4ms/step - loss: 0.2662 - accuracy: 0.8907 - val_loss: 0.4187 - val_accuracy: 0.8333\n",
            "Epoch 79/150\n",
            "55/55 [==============================] - 0s 5ms/step - loss: 0.2716 - accuracy: 0.8924 - val_loss: 0.4258 - val_accuracy: 0.8287\n",
            "Epoch 80/150\n",
            "55/55 [==============================] - 0s 4ms/step - loss: 0.2626 - accuracy: 0.8924 - val_loss: 0.4229 - val_accuracy: 0.8241\n",
            "Epoch 81/150\n",
            "55/55 [==============================] - 0s 4ms/step - loss: 0.3074 - accuracy: 0.8676 - val_loss: 0.4261 - val_accuracy: 0.8287\n",
            "Epoch 82/150\n",
            "55/55 [==============================] - 0s 4ms/step - loss: 0.2625 - accuracy: 0.8942 - val_loss: 0.4285 - val_accuracy: 0.8287\n",
            "Epoch 83/150\n",
            "55/55 [==============================] - 0s 4ms/step - loss: 0.2678 - accuracy: 0.8936 - val_loss: 0.4143 - val_accuracy: 0.8287\n",
            "Epoch 84/150\n",
            "55/55 [==============================] - 0s 4ms/step - loss: 0.2599 - accuracy: 0.8913 - val_loss: 0.4328 - val_accuracy: 0.8194\n",
            "Epoch 85/150\n",
            "55/55 [==============================] - 0s 5ms/step - loss: 0.2587 - accuracy: 0.8913 - val_loss: 0.4220 - val_accuracy: 0.8333\n",
            "Epoch 86/150\n",
            "55/55 [==============================] - 0s 6ms/step - loss: 0.2685 - accuracy: 0.8890 - val_loss: 0.4775 - val_accuracy: 0.8194\n",
            "Epoch 87/150\n",
            "55/55 [==============================] - 0s 7ms/step - loss: 0.2658 - accuracy: 0.8901 - val_loss: 0.4177 - val_accuracy: 0.8287\n",
            "Epoch 88/150\n",
            "55/55 [==============================] - 0s 6ms/step - loss: 0.2491 - accuracy: 0.8976 - val_loss: 0.4283 - val_accuracy: 0.8333\n",
            "Epoch 89/150\n",
            "55/55 [==============================] - 0s 6ms/step - loss: 0.2451 - accuracy: 0.8999 - val_loss: 0.4094 - val_accuracy: 0.8333\n",
            "Epoch 90/150\n",
            "55/55 [==============================] - 0s 7ms/step - loss: 0.2447 - accuracy: 0.9005 - val_loss: 0.4093 - val_accuracy: 0.8287\n",
            "Epoch 91/150\n",
            "55/55 [==============================] - 0s 6ms/step - loss: 0.2407 - accuracy: 0.9057 - val_loss: 0.4242 - val_accuracy: 0.8287\n",
            "Epoch 92/150\n",
            "55/55 [==============================] - 0s 8ms/step - loss: 0.2413 - accuracy: 0.9051 - val_loss: 0.4006 - val_accuracy: 0.8333\n",
            "Epoch 93/150\n",
            "55/55 [==============================] - 0s 8ms/step - loss: 0.2485 - accuracy: 0.8971 - val_loss: 0.4092 - val_accuracy: 0.8380\n",
            "Epoch 94/150\n",
            "55/55 [==============================] - 0s 4ms/step - loss: 0.2350 - accuracy: 0.9069 - val_loss: 0.4080 - val_accuracy: 0.8380\n",
            "Epoch 95/150\n",
            "55/55 [==============================] - 0s 5ms/step - loss: 0.2365 - accuracy: 0.9057 - val_loss: 0.4077 - val_accuracy: 0.8241\n",
            "Epoch 96/150\n",
            "55/55 [==============================] - 0s 4ms/step - loss: 0.2514 - accuracy: 0.8959 - val_loss: 0.4161 - val_accuracy: 0.8241\n",
            "Epoch 97/150\n",
            "55/55 [==============================] - 0s 5ms/step - loss: 0.2347 - accuracy: 0.9063 - val_loss: 0.4042 - val_accuracy: 0.8426\n",
            "Epoch 98/150\n",
            "55/55 [==============================] - 0s 5ms/step - loss: 0.2294 - accuracy: 0.9104 - val_loss: 0.3994 - val_accuracy: 0.8380\n",
            "Epoch 99/150\n",
            "55/55 [==============================] - 0s 4ms/step - loss: 0.2349 - accuracy: 0.9092 - val_loss: 0.4086 - val_accuracy: 0.8333\n",
            "Epoch 100/150\n",
            "55/55 [==============================] - 0s 4ms/step - loss: 0.2254 - accuracy: 0.9121 - val_loss: 0.4021 - val_accuracy: 0.8472\n",
            "Epoch 101/150\n",
            "55/55 [==============================] - 0s 5ms/step - loss: 0.2287 - accuracy: 0.9098 - val_loss: 0.4004 - val_accuracy: 0.8426\n",
            "Epoch 102/150\n",
            "55/55 [==============================] - 0s 5ms/step - loss: 0.2237 - accuracy: 0.9156 - val_loss: 0.3990 - val_accuracy: 0.8519\n",
            "Epoch 103/150\n",
            "55/55 [==============================] - 0s 4ms/step - loss: 0.2268 - accuracy: 0.9104 - val_loss: 0.3947 - val_accuracy: 0.8472\n",
            "Epoch 104/150\n",
            "55/55 [==============================] - 0s 4ms/step - loss: 0.2172 - accuracy: 0.9144 - val_loss: 0.4375 - val_accuracy: 0.8333\n",
            "Epoch 105/150\n",
            "55/55 [==============================] - 0s 4ms/step - loss: 0.2321 - accuracy: 0.9098 - val_loss: 0.3991 - val_accuracy: 0.8519\n",
            "Epoch 106/150\n",
            "55/55 [==============================] - 0s 4ms/step - loss: 0.2174 - accuracy: 0.9080 - val_loss: 0.3964 - val_accuracy: 0.8426\n",
            "Epoch 107/150\n",
            "55/55 [==============================] - 0s 5ms/step - loss: 0.2258 - accuracy: 0.9086 - val_loss: 0.3927 - val_accuracy: 0.8472\n",
            "Epoch 108/150\n",
            "55/55 [==============================] - 0s 4ms/step - loss: 0.2148 - accuracy: 0.9190 - val_loss: 0.4313 - val_accuracy: 0.8287\n",
            "Epoch 109/150\n",
            "55/55 [==============================] - 0s 5ms/step - loss: 0.2180 - accuracy: 0.9109 - val_loss: 0.4046 - val_accuracy: 0.8472\n",
            "Epoch 110/150\n",
            "55/55 [==============================] - 0s 4ms/step - loss: 0.2158 - accuracy: 0.9150 - val_loss: 0.4164 - val_accuracy: 0.8380\n",
            "Epoch 111/150\n",
            "55/55 [==============================] - 0s 5ms/step - loss: 0.2119 - accuracy: 0.9184 - val_loss: 0.4177 - val_accuracy: 0.8426\n",
            "Epoch 112/150\n",
            "55/55 [==============================] - 0s 4ms/step - loss: 0.2045 - accuracy: 0.9237 - val_loss: 0.4027 - val_accuracy: 0.8241\n",
            "Epoch 113/150\n",
            "55/55 [==============================] - 0s 5ms/step - loss: 0.2109 - accuracy: 0.9150 - val_loss: 0.4038 - val_accuracy: 0.8426\n",
            "Epoch 114/150\n",
            "55/55 [==============================] - 0s 5ms/step - loss: 0.2425 - accuracy: 0.9092 - val_loss: 0.4094 - val_accuracy: 0.8426\n",
            "Epoch 115/150\n",
            "55/55 [==============================] - 0s 4ms/step - loss: 0.2168 - accuracy: 0.9138 - val_loss: 0.3863 - val_accuracy: 0.8519\n",
            "Epoch 116/150\n",
            "55/55 [==============================] - 0s 5ms/step - loss: 0.2138 - accuracy: 0.9173 - val_loss: 0.4116 - val_accuracy: 0.8472\n",
            "Epoch 117/150\n",
            "55/55 [==============================] - 0s 4ms/step - loss: 0.2103 - accuracy: 0.9184 - val_loss: 0.4766 - val_accuracy: 0.8241\n",
            "Epoch 118/150\n",
            "55/55 [==============================] - 0s 4ms/step - loss: 0.2111 - accuracy: 0.9173 - val_loss: 0.3995 - val_accuracy: 0.8472\n",
            "Epoch 119/150\n",
            "55/55 [==============================] - 0s 5ms/step - loss: 0.1956 - accuracy: 0.9248 - val_loss: 0.4091 - val_accuracy: 0.8472\n",
            "Epoch 120/150\n",
            "55/55 [==============================] - 0s 5ms/step - loss: 0.2013 - accuracy: 0.9190 - val_loss: 0.3972 - val_accuracy: 0.8287\n",
            "Epoch 121/150\n",
            "55/55 [==============================] - 0s 5ms/step - loss: 0.1920 - accuracy: 0.9260 - val_loss: 0.3966 - val_accuracy: 0.8472\n",
            "Epoch 122/150\n",
            "55/55 [==============================] - 0s 4ms/step - loss: 0.1978 - accuracy: 0.9242 - val_loss: 0.4010 - val_accuracy: 0.8519\n",
            "Epoch 123/150\n",
            "55/55 [==============================] - 0s 4ms/step - loss: 0.2049 - accuracy: 0.9213 - val_loss: 0.4299 - val_accuracy: 0.8472\n",
            "Epoch 124/150\n",
            "55/55 [==============================] - 0s 4ms/step - loss: 0.1871 - accuracy: 0.9323 - val_loss: 0.4205 - val_accuracy: 0.8472\n",
            "Epoch 125/150\n",
            "55/55 [==============================] - 0s 5ms/step - loss: 0.1942 - accuracy: 0.9300 - val_loss: 0.4348 - val_accuracy: 0.8102\n",
            "Epoch 126/150\n",
            "55/55 [==============================] - 0s 5ms/step - loss: 0.2703 - accuracy: 0.8866 - val_loss: 0.4959 - val_accuracy: 0.8148\n",
            "Epoch 127/150\n",
            "55/55 [==============================] - 0s 5ms/step - loss: 0.1957 - accuracy: 0.9202 - val_loss: 0.4210 - val_accuracy: 0.8287\n",
            "Epoch 128/150\n",
            "55/55 [==============================] - 0s 4ms/step - loss: 0.1883 - accuracy: 0.9248 - val_loss: 0.4100 - val_accuracy: 0.8611\n",
            "Epoch 129/150\n",
            "55/55 [==============================] - 0s 4ms/step - loss: 0.1830 - accuracy: 0.9318 - val_loss: 0.4078 - val_accuracy: 0.8333\n",
            "Epoch 130/150\n",
            "55/55 [==============================] - 0s 5ms/step - loss: 0.1835 - accuracy: 0.9242 - val_loss: 0.3958 - val_accuracy: 0.8426\n",
            "Epoch 131/150\n",
            "55/55 [==============================] - 0s 5ms/step - loss: 0.1858 - accuracy: 0.9242 - val_loss: 0.4148 - val_accuracy: 0.8333\n",
            "Epoch 132/150\n",
            "55/55 [==============================] - 0s 6ms/step - loss: 0.1827 - accuracy: 0.9312 - val_loss: 0.4120 - val_accuracy: 0.8519\n",
            "Epoch 133/150\n",
            "55/55 [==============================] - 0s 7ms/step - loss: 0.1828 - accuracy: 0.9335 - val_loss: 0.4537 - val_accuracy: 0.8333\n",
            "Epoch 134/150\n",
            "55/55 [==============================] - 0s 6ms/step - loss: 0.1828 - accuracy: 0.9265 - val_loss: 0.3914 - val_accuracy: 0.8426\n",
            "Epoch 135/150\n",
            "55/55 [==============================] - 0s 7ms/step - loss: 0.1853 - accuracy: 0.9271 - val_loss: 0.4191 - val_accuracy: 0.8194\n",
            "Epoch 136/150\n",
            "55/55 [==============================] - 0s 7ms/step - loss: 0.1893 - accuracy: 0.9248 - val_loss: 0.4250 - val_accuracy: 0.8472\n",
            "Epoch 137/150\n",
            "55/55 [==============================] - 0s 7ms/step - loss: 0.1747 - accuracy: 0.9393 - val_loss: 0.4097 - val_accuracy: 0.8565\n",
            "Epoch 138/150\n",
            "55/55 [==============================] - 0s 8ms/step - loss: 0.1767 - accuracy: 0.9323 - val_loss: 0.3970 - val_accuracy: 0.8426\n",
            "Epoch 139/150\n",
            "55/55 [==============================] - 0s 7ms/step - loss: 0.1779 - accuracy: 0.9341 - val_loss: 0.4177 - val_accuracy: 0.8472\n",
            "Epoch 140/150\n",
            "55/55 [==============================] - 0s 6ms/step - loss: 0.1744 - accuracy: 0.9410 - val_loss: 0.4078 - val_accuracy: 0.8380\n",
            "Epoch 141/150\n",
            "55/55 [==============================] - 0s 5ms/step - loss: 0.1764 - accuracy: 0.9318 - val_loss: 0.4003 - val_accuracy: 0.8426\n",
            "Epoch 142/150\n",
            "55/55 [==============================] - 0s 4ms/step - loss: 0.1802 - accuracy: 0.9318 - val_loss: 0.3983 - val_accuracy: 0.8426\n",
            "Epoch 143/150\n",
            "55/55 [==============================] - 0s 5ms/step - loss: 0.1811 - accuracy: 0.9341 - val_loss: 0.4834 - val_accuracy: 0.8148\n",
            "Epoch 144/150\n",
            "55/55 [==============================] - 0s 5ms/step - loss: 0.2445 - accuracy: 0.8976 - val_loss: 0.4154 - val_accuracy: 0.8333\n",
            "Epoch 145/150\n",
            "55/55 [==============================] - 0s 5ms/step - loss: 0.1807 - accuracy: 0.9335 - val_loss: 0.4021 - val_accuracy: 0.8380\n",
            "Epoch 146/150\n",
            "55/55 [==============================] - 0s 5ms/step - loss: 0.1704 - accuracy: 0.9358 - val_loss: 0.4101 - val_accuracy: 0.8380\n",
            "Epoch 147/150\n",
            "55/55 [==============================] - 0s 5ms/step - loss: 0.1711 - accuracy: 0.9358 - val_loss: 0.4192 - val_accuracy: 0.8472\n",
            "Epoch 148/150\n",
            "55/55 [==============================] - 0s 4ms/step - loss: 0.1702 - accuracy: 0.9370 - val_loss: 0.4288 - val_accuracy: 0.8472\n",
            "Epoch 149/150\n",
            "55/55 [==============================] - 0s 4ms/step - loss: 0.1645 - accuracy: 0.9358 - val_loss: 0.4018 - val_accuracy: 0.8380\n",
            "Epoch 150/150\n",
            "55/55 [==============================] - 0s 4ms/step - loss: 0.1732 - accuracy: 0.9352 - val_loss: 0.4100 - val_accuracy: 0.8426\n"
          ]
        }
      ],
      "source": [
        "import tensorflow as tf\n",
        "from tensorflow import keras\n",
        "\n",
        "\n",
        "model = keras.Sequential([\n",
        "    keras.layers.Dense(20, input_shape=(33,), activation='relu'),\n",
        "    keras.layers.Dense(15, activation='relu'),\n",
        "    keras.layers.Dense(5, activation='relu'),\n",
        "    keras.layers.Dense(1, activation='sigmoid')\n",
        "])\n",
        "\n",
        "\n",
        "model.compile(optimizer='adam',\n",
        "              loss='binary_crossentropy',\n",
        "              metrics=['accuracy'])\n",
        "\n",
        "history = model.fit(X_train, y_train, epochs=150, validation_data=(X_valid, y_valid))"
      ]
    },
    {
      "attachments": {},
      "cell_type": "markdown",
      "metadata": {
        "id": "WYyy9nCNoQZd"
      },
      "source": [
        "# Result Analysis"
      ]
    },
    {
      "cell_type": "code",
      "execution_count": 117,
      "metadata": {
        "colab": {
          "base_uri": "https://localhost:8080/",
          "height": 472
        },
        "id": "Utr1BT-3w2mR",
        "outputId": "35f39d7c-c0d7-4d4b-fc91-35be9752628f"
      },
      "outputs": [
        {
          "data": {
            "image/png": "[encoded data removed]",
            "text/plain": [
              "<Figure size 640x480 with 1 Axes>"
            ]
          },
          "metadata": {},
          "output_type": "display_data"
        }
      ],
      "source": [
        "plt.plot(history.history['accuracy'])\n",
        "plt.plot(history.history['val_accuracy'])\n",
        "plt.title('model accuracy')\n",
        "plt.ylabel('accuracy')\n",
        "plt.xlabel('epoch')\n",
        "plt.legend(['train', 'val'], loc='upper left')\n",
        "plt.show()"
      ]
    },
    {
      "cell_type": "code",
      "execution_count": 118,
      "metadata": {
        "colab": {
          "base_uri": "https://localhost:8080/",
          "height": 472
        },
        "id": "FceXULO5w-On",
        "outputId": "6dafab01-b6bc-4277-fe27-4a6fcd2adcd0"
      },
      "outputs": [
        {
          "data": {
            "image/png": "[encoded data removed]",
            "text/plain": [
              "<Figure size 640x480 with 1 Axes>"
            ]
          },
          "metadata": {},
          "output_type": "display_data"
        }
      ],
      "source": [
        "plt.plot(history.history['loss'])\n",
        "plt.plot(history.history['val_loss'])\n",
        "plt.title('model loss')\n",
        "plt.ylabel('loss')\n",
        "plt.xlabel('epoch')\n",
        "plt.legend(['train', 'val'], loc='upper left')\n",
        "plt.show()"
      ]
    },
    {
      "attachments": {},
      "cell_type": "markdown",
      "metadata": {
        "id": "lbzi5J-qoQZd"
      },
      "source": [
        "# Model Performance Evaluation"
      ]
    },
    {
      "cell_type": "code",
      "execution_count": 119,
      "metadata": {
        "colab": {
          "base_uri": "https://localhost:8080/"
        },
        "id": "UoXX-WOWc8_a",
        "outputId": "61f5b53a-dd0b-470b-cbf8-3546ca0a27d9",
        "scrolled": true
      },
      "outputs": [
        {
          "name": "stdout",
          "output_type": "stream",
          "text": [
            "7/7 [==============================] - 0s 3ms/step - loss: 0.4135 - accuracy: 0.8802\n"
          ]
        },
        {
          "data": {
            "text/plain": [
              "[0.41347017884254456, 0.8801843523979187]"
            ]
          },
          "execution_count": 119,
          "metadata": {},
          "output_type": "execute_result"
        }
      ],
      "source": [
        "model.evaluate(X_test, y_test)"
      ]
    },
    {
      "cell_type": "code",
      "execution_count": 120,
      "metadata": {
        "colab": {
          "base_uri": "https://localhost:8080/"
        },
        "id": "vPnrg_Umc8_a",
        "outputId": "79b27c5c-a203-42d5-c6d5-5cd409627e7b"
      },
      "outputs": [
        {
          "name": "stdout",
          "output_type": "stream",
          "text": [
            "7/7 [==============================] - 0s 2ms/step\n"
          ]
        }
      ],
      "source": [
        "yp = model.predict(X_test)"
      ]
    },
    {
      "cell_type": "code",
      "execution_count": 121,
      "metadata": {
        "id": "pAeRogtCc8_a"
      },
      "outputs": [],
      "source": [
        "y_pred = []\n",
        "for element in yp:\n",
        "    if element > 0.5:\n",
        "        y_pred.append(1)\n",
        "    else:\n",
        "        y_pred.append(0)"
      ]
    },
    {
      "cell_type": "code",
      "execution_count": 122,
      "metadata": {
        "colab": {
          "base_uri": "https://localhost:8080/"
        },
        "id": "guUACsPIc8_b",
        "outputId": "9abba0a5-dba9-4a1e-f04f-d318b535ea3b"
      },
      "outputs": [
        {
          "name": "stdout",
          "output_type": "stream",
          "text": [
            "              precision    recall  f1-score   support\n",
            "\n",
            "           0       0.87      0.91      0.89       116\n",
            "           1       0.89      0.84      0.87       101\n",
            "\n",
            "    accuracy                           0.88       217\n",
            "   macro avg       0.88      0.88      0.88       217\n",
            "weighted avg       0.88      0.88      0.88       217\n",
            "\n"
          ]
        }
      ],
      "source": [
        "print(classification_report(y_test,y_pred))"
      ]
    },
    {
      "cell_type": "code",
      "execution_count": 123,
      "metadata": {
        "colab": {
          "base_uri": "https://localhost:8080/",
          "height": 637
        },
        "id": "Otfu48GHc8_b",
        "outputId": "2646a9c0-3caa-4761-c3fa-b0d3bc956663",
        "scrolled": false
      },
      "outputs": [
        {
          "data": {
            "text/plain": [
              "Text(95.72222222222221, 0.5, 'Truth')"
            ]
          },
          "execution_count": 123,
          "metadata": {},
          "output_type": "execute_result"
        },
        {
          "data": {
            "image/png": "[encoded data removed]",
            "text/plain": [
              "<Figure size 1000x700 with 2 Axes>"
            ]
          },
          "metadata": {},
          "output_type": "display_data"
        }
      ],
      "source": [
        "cm = tf.math.confusion_matrix(labels=y_test,predictions=y_pred)\n",
        "\n",
        "plt.figure(figsize = (10,7))\n",
        "sn.heatmap(cm, annot=True, fmt='d')\n",
        "plt.xlabel('Predicted')\n",
        "plt.ylabel('Truth')"
      ]
    },
    {
      "cell_type": "code",
      "execution_count": 124,
      "metadata": {
        "colab": {
          "base_uri": "https://localhost:8080/"
        },
        "id": "aibHg7Fkc8_b",
        "outputId": "80658838-008a-4371-f6f5-25d1d6c6c426"
      },
      "outputs": [
        {
          "data": {
            "text/plain": [
              "(217,)"
            ]
          },
          "execution_count": 124,
          "metadata": {},
          "output_type": "execute_result"
        }
      ],
      "source": [
        "y_test.shape"
      ]
    }
  ],
  "metadata": {
    "accelerator": "GPU",
    "colab": {
      "gpuType": "T4",
      "provenance": []
    },
    "gpuClass": "standard",
    "kernelspec": {
      "display_name": "Python 3",
      "language": "python",
      "name": "python3"
    },
    "language_info": {
      "codemirror_mode": {
        "name": "ipython",
        "version": 3
      },
      "file_extension": ".py",
      "mimetype": "text/x-python",
      "name": "python",
      "nbconvert_exporter": "python",
      "pygments_lexer": "ipython3",
      "version": "3.8.5"
    }
  },
  "nbformat": 4,
  "nbformat_minor": 0
}
